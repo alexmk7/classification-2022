{
 "cells": [
  {
   "cell_type": "markdown",
   "metadata": {
    "slideshow": {
     "slide_type": "fragment"
    }
   },
   "source": [
    "# Обучение с применением учителя (supervised learning)\n",
    "### Основные определения\n",
    "\n",
    "$X$ &ndash; множество объектов <br/>\n",
    "$Y$ &ndash; множество ответов <br/>\n",
    "$y^*: X \\rightarrow Y$ &ndash; целевая функция <br/>\n",
    "\n",
    "Пусть для набора объектов $X$ задан набор отображений $f_1, \\dots, f_n: X \\rightarrow D_{f_i}$ . Будем называть их признаками, значения $f_i$ - результат измерения некоторой характеристики объекта $x  \\in X$ .\n",
    "* если $D_{f_i}$ - конечное множество, то $f_i$ - *номинальный* признак\n",
    "* если $D_{f_i} = \\{0, 1\\}$ , то $f_i$ - *бинарный* признак \n",
    "* если $D_{f_i} = \\mathbb R$ , то $f_i$ - *количественный* признак\n",
    "\n",
    "Таким образом, кажому объекту $x \\in X$ можно сопоставить $(f_1, \\dots, f_n)$ который называется признаковым описанием объекта $x$."
   ]
  },
  {
   "cell_type": "markdown",
   "metadata": {},
   "source": [
    "### Постановка задачи\n",
    "\n",
    "Значения целевой функции известны на конечном множестве объектов: <br/> $\\{x_1, \\dots, x_l\\} \\subset X$\n",
    "\n",
    "$T^l = \\{(x_i, y_i)\\}^l_{i=1}$ &ndash; обучающая выборка\n",
    "\n",
    "По выборке $T^l$ нужно восстановить зависимость $y^*$, то есть построить функцию <br/> $a: X \\rightarrow Y$,<br/>\n",
    "которая достаточно хорошо приближала бы функцию $y^*$ на всём множестве $X$."
   ]
  },
  {
   "cell_type": "markdown",
   "metadata": {},
   "source": [
    "### Типы задач\n",
    "\n",
    "##### В зависимости от множества $Y$ задачу можно разделить на следующие типы:\n",
    "Задача классификации\n",
    ">$Y=\\{1,\\dots,M\\}$\n",
    "\n",
    "Восстановления регрессии\n",
    "> $Y=\\mathbb R$ \n",
    "\n",
    "##### В зависимости от известных данных и области применения:\n",
    "\n",
    "Transductive learning \n",
    "> если все объекты $X$ известны во время обучения.\n",
    "\n",
    "Semi-supervised learning \n",
    "> если во время обучения помимо $T^l$ дано ещё большое количество объекто $S^u = \\{x_{l+1}, \\dots, x_{l+u}\\} \\subset X$ для которых неизвестно значение функции $y^*$. Обычно $l \\ll u$."
   ]
  },
  {
   "cell_type": "markdown",
   "metadata": {},
   "source": [
    "### Функционал качества\n",
    "\n",
    "Пусть $a$ функция (\"алгоритм\"), которую мы нашли в процессе решения задачи. Пусть функция задана функция $\\mathbb L(a,x_i)$, характеризующая величину ошибки функции $a$ на объекте $x_i$: $a(x_i)$. Если ответ алгоритма в точке $x_i$ корректен, тогда $\\mathbb L(a,x_i)=0$\n",
    "\n",
    "Определим *функционал качества* на тренировочном множестве $X$ как среднее значение функции потерь на элементах этого множества:<br/> \n",
    "$Q(a, X^l)=\\frac{1}{l}\\sum^l_{i=1}\\mathbb L(a,x_i)$\n",
    "\n",
    "Примеры функций потерь:\n",
    "* $Q(a, X^l)=\\frac{1}{l}\\sum^l_{i=1}[a(x) \\neq y^*(x)]$ &mdash; индикатор ошибки\n",
    "* $Q(a, X^l)=\\frac{1}{l}\\sum^l_{i=1}|a(x) - y^*(x)|$ &mdash; средняя ошибка\n",
    "* $Q(a, X^l)=\\frac{1}{l}\\sum^l_{i=1}(a(x) - y^*(x))^2$ &mdash; серднеквадратичная ошибка"
   ]
  },
  {
   "cell_type": "markdown",
   "metadata": {},
   "source": [
    "### Модель алгоритмов обучения\n",
    "\n",
    "Если мы ищем алгоритм $a(x)$ из некоторого параметрического семейства $A = \\{a(x, \\theta) | \\theta \\in \\Theta\\}$, $a(x) \\in A$, то $A$ называется моделью алгоритмов, а $\\Theta$ называется пространством параметров. \n",
    "\n",
    "Соотве нам нужно минимизировать функционал качества по $\\theta$: <br/>\n",
    "\n",
    "$$a(x) = \\arg \\min_{\\theta \\in \\Theta}  Q(a(x, \\theta), X^l)$$"
   ]
  },
  {
   "cell_type": "markdown",
   "metadata": {},
   "source": [
    "# Примеры"
   ]
  },
  {
   "cell_type": "code",
   "execution_count": 1,
   "metadata": {
    "scrolled": true
   },
   "outputs": [],
   "source": [
    "import sklearn.datasets as ds\n",
    "import pandas as pd\n",
    "import numpy as np"
   ]
  },
  {
   "cell_type": "markdown",
   "metadata": {},
   "source": [
    " Пример задачи восстановления регрессии - по характеристика квартиры нужно предположить рыночную цену."
   ]
  },
  {
   "cell_type": "code",
   "execution_count": 2,
   "metadata": {
    "scrolled": true
   },
   "outputs": [
    {
     "data": {
      "text/html": [
       "<div>\n",
       "<style scoped>\n",
       "    .dataframe tbody tr th:only-of-type {\n",
       "        vertical-align: middle;\n",
       "    }\n",
       "\n",
       "    .dataframe tbody tr th {\n",
       "        vertical-align: top;\n",
       "    }\n",
       "\n",
       "    .dataframe thead th {\n",
       "        text-align: right;\n",
       "    }\n",
       "</style>\n",
       "<table border=\"1\" class=\"dataframe\">\n",
       "  <thead>\n",
       "    <tr style=\"text-align: right;\">\n",
       "      <th></th>\n",
       "      <th>Unnamed: 0</th>\n",
       "      <th>Комнат</th>\n",
       "      <th>Район города</th>\n",
       "      <th>Адрес</th>\n",
       "      <th>Этаж</th>\n",
       "      <th>Общ</th>\n",
       "      <th>Жил</th>\n",
       "      <th>Кух</th>\n",
       "      <th>М</th>\n",
       "      <th>Тел</th>\n",
       "      <th>Примечания</th>\n",
       "      <th>#Цена</th>\n",
       "    </tr>\n",
       "  </thead>\n",
       "  <tbody>\n",
       "    <tr>\n",
       "      <th>0</th>\n",
       "      <td>1</td>\n",
       "      <td>1</td>\n",
       "      <td>Московский</td>\n",
       "      <td>Пулковское ш.</td>\n",
       "      <td>0/0</td>\n",
       "      <td>35.7</td>\n",
       "      <td>0.0</td>\n",
       "      <td>0.0</td>\n",
       "      <td>NaN</td>\n",
       "      <td>NaN</td>\n",
       "      <td>NaN</td>\n",
       "      <td>3820.0</td>\n",
       "    </tr>\n",
       "    <tr>\n",
       "      <th>1</th>\n",
       "      <td>2</td>\n",
       "      <td>1</td>\n",
       "      <td>Московский</td>\n",
       "      <td>Пулковское ш.</td>\n",
       "      <td>0/0</td>\n",
       "      <td>27.5</td>\n",
       "      <td>0.0</td>\n",
       "      <td>0.0</td>\n",
       "      <td>NaN</td>\n",
       "      <td>NaN</td>\n",
       "      <td>NaN</td>\n",
       "      <td>3080.0</td>\n",
       "    </tr>\n",
       "    <tr>\n",
       "      <th>2</th>\n",
       "      <td>3</td>\n",
       "      <td>1</td>\n",
       "      <td>Московский</td>\n",
       "      <td>Московское ш.</td>\n",
       "      <td>0/0</td>\n",
       "      <td>35.5</td>\n",
       "      <td>0.0</td>\n",
       "      <td>0.0</td>\n",
       "      <td>NaN</td>\n",
       "      <td>NaN</td>\n",
       "      <td>NaN</td>\n",
       "      <td>3470.0</td>\n",
       "    </tr>\n",
       "    <tr>\n",
       "      <th>3</th>\n",
       "      <td>4</td>\n",
       "      <td>1</td>\n",
       "      <td>Московский</td>\n",
       "      <td>Московское ш.</td>\n",
       "      <td>0/0</td>\n",
       "      <td>33.5</td>\n",
       "      <td>0.0</td>\n",
       "      <td>0.0</td>\n",
       "      <td>NaN</td>\n",
       "      <td>NaN</td>\n",
       "      <td>NaN</td>\n",
       "      <td>2989.0</td>\n",
       "    </tr>\n",
       "    <tr>\n",
       "      <th>4</th>\n",
       "      <td>5</td>\n",
       "      <td>1</td>\n",
       "      <td>Московский</td>\n",
       "      <td>Московское ш.</td>\n",
       "      <td>0/0</td>\n",
       "      <td>24.2</td>\n",
       "      <td>0.0</td>\n",
       "      <td>0.0</td>\n",
       "      <td>NaN</td>\n",
       "      <td>NaN</td>\n",
       "      <td>NaN</td>\n",
       "      <td>2261.0</td>\n",
       "    </tr>\n",
       "  </tbody>\n",
       "</table>\n",
       "</div>"
      ],
      "text/plain": [
       "   Unnamed: 0  Комнат  Район города          Адрес  Этаж   Общ   Жил   Кух   \\\n",
       "0           1        1    Московский  Пулковское ш.   0/0  35.7   0.0   0.0   \n",
       "1           2        1    Московский  Пулковское ш.   0/0  27.5   0.0   0.0   \n",
       "2           3        1    Московский  Московское ш.   0/0  35.5   0.0   0.0   \n",
       "3           4        1    Московский  Московское ш.   0/0  33.5   0.0   0.0   \n",
       "4           5        1    Московский  Московское ш.   0/0  24.2   0.0   0.0   \n",
       "\n",
       "    М  Тел  Примечания    #Цена  \n",
       "0  NaN  NaN         NaN  3820.0  \n",
       "1  NaN  NaN         NaN  3080.0  \n",
       "2  NaN  NaN         NaN  3470.0  \n",
       "3  NaN  NaN         NaN  2989.0  \n",
       "4  NaN  NaN         NaN  2261.0  "
      ]
     },
     "execution_count": 2,
     "metadata": {},
     "output_type": "execute_result"
    }
   ],
   "source": [
    "#df = pd.read_csv('data/real_estate.csv')\n",
    "df = pd.read_csv('http://pastebin.com/raw.php?i=RcHeuYJ4')\n",
    "df.head(5)"
   ]
  },
  {
   "cell_type": "markdown",
   "metadata": {},
   "source": [
    "Пример набора данных для задачи semi-supervised learning (\"с чатсичным привлечением учителя\"). Дано большое количество непомеченных данных и много меньше почеченных. Информация о непомеченных данных помогает восстановить некоторые характеристики."
   ]
  },
  {
   "cell_type": "code",
   "execution_count": 3,
   "metadata": {},
   "outputs": [
    {
     "data": {
      "text/plain": [
       "[<matplotlib.lines.Line2D at 0x7f7b8259a9e0>]"
      ]
     },
     "execution_count": 3,
     "metadata": {},
     "output_type": "execute_result"
    },
    {
     "data": {
      "image/png": "[encoded data removed]",
      "text/plain": [
       "<Figure size 640x480 with 1 Axes>"
      ]
     },
     "metadata": {},
     "output_type": "display_data"
    }
   ],
   "source": [
    "import matplotlib.pyplot as plt\n",
    "import seaborn as sns\n",
    "sns.set()\n",
    "\n",
    "xy, c = ds.make_moons(200, shuffle=False, noise=0.09)\n",
    "\n",
    "ind0 = np.arange(0, 100)\n",
    "ind1 = np.arange(100, 200)\n",
    "np.random.shuffle(ind0)\n",
    "np.random.shuffle(ind1)\n",
    "\n",
    "plt.plot(xy[ind0[:10], 0], xy[ind0[:10], 1], 'r^')\n",
    "\n",
    "plt.plot(xy[ind1[:10], 0], xy[ind1[:10], 1], 'r*')\n",
    "\n",
    "plt.plot(xy[ind0[10:], 0], xy[ind0[10:], 1], 'b.')\n",
    "plt.plot(xy[ind1[10:], 0], xy[ind1[10:], 1], 'b.')"
   ]
  },
  {
   "cell_type": "markdown",
   "metadata": {},
   "source": [
    "Классический набор данных для задачи классификации - по характеристиками цветка\n",
    "- длина наружной доли околоцветника (sepal length)\n",
    "- ширина наружной доли околоцветника (sepal width)\n",
    "- длина внутренней доли околоцветника (petal length)\n",
    "- ширина внутренней доли околоцветника (petal width)\n",
    "\n",
    "нужно восстановить к какому виду Ириса пренадлежит конктретный экземпляр - \n",
    "\n",
    "- Ирис щетинистый (Iris setosa)\n",
    "- Ирис виргинский (Iris virginica)\n",
    "- Ирис разноцветный (Iris versicolor). \n",
    "\n"
   ]
  },
  {
   "cell_type": "code",
   "execution_count": 6,
   "metadata": {},
   "outputs": [
    {
     "data": {
      "text/html": [
       "<div>\n",
       "<style scoped>\n",
       "    .dataframe tbody tr th:only-of-type {\n",
       "        vertical-align: middle;\n",
       "    }\n",
       "\n",
       "    .dataframe tbody tr th {\n",
       "        vertical-align: top;\n",
       "    }\n",
       "\n",
       "    .dataframe thead th {\n",
       "        text-align: right;\n",
       "    }\n",
       "</style>\n",
       "<table border=\"1\" class=\"dataframe\">\n",
       "  <thead>\n",
       "    <tr style=\"text-align: right;\">\n",
       "      <th></th>\n",
       "      <th>sepal length (cm)</th>\n",
       "      <th>sepal width (cm)</th>\n",
       "      <th>petal length (cm)</th>\n",
       "      <th>petal width (cm)</th>\n",
       "      <th>Class</th>\n",
       "    </tr>\n",
       "  </thead>\n",
       "  <tbody>\n",
       "    <tr>\n",
       "      <th>0</th>\n",
       "      <td>5.1</td>\n",
       "      <td>3.5</td>\n",
       "      <td>1.4</td>\n",
       "      <td>0.2</td>\n",
       "      <td>0</td>\n",
       "    </tr>\n",
       "    <tr>\n",
       "      <th>1</th>\n",
       "      <td>4.9</td>\n",
       "      <td>3.0</td>\n",
       "      <td>1.4</td>\n",
       "      <td>0.2</td>\n",
       "      <td>0</td>\n",
       "    </tr>\n",
       "    <tr>\n",
       "      <th>2</th>\n",
       "      <td>4.7</td>\n",
       "      <td>3.2</td>\n",
       "      <td>1.3</td>\n",
       "      <td>0.2</td>\n",
       "      <td>0</td>\n",
       "    </tr>\n",
       "    <tr>\n",
       "      <th>3</th>\n",
       "      <td>4.6</td>\n",
       "      <td>3.1</td>\n",
       "      <td>1.5</td>\n",
       "      <td>0.2</td>\n",
       "      <td>0</td>\n",
       "    </tr>\n",
       "    <tr>\n",
       "      <th>4</th>\n",
       "      <td>5.0</td>\n",
       "      <td>3.6</td>\n",
       "      <td>1.4</td>\n",
       "      <td>0.2</td>\n",
       "      <td>0</td>\n",
       "    </tr>\n",
       "    <tr>\n",
       "      <th>5</th>\n",
       "      <td>5.4</td>\n",
       "      <td>3.9</td>\n",
       "      <td>1.7</td>\n",
       "      <td>0.4</td>\n",
       "      <td>0</td>\n",
       "    </tr>\n",
       "    <tr>\n",
       "      <th>6</th>\n",
       "      <td>4.6</td>\n",
       "      <td>3.4</td>\n",
       "      <td>1.4</td>\n",
       "      <td>0.3</td>\n",
       "      <td>0</td>\n",
       "    </tr>\n",
       "  </tbody>\n",
       "</table>\n",
       "</div>"
      ],
      "text/plain": [
       "   sepal length (cm)  sepal width (cm)  petal length (cm)  petal width (cm)  \\\n",
       "0                5.1               3.5                1.4               0.2   \n",
       "1                4.9               3.0                1.4               0.2   \n",
       "2                4.7               3.2                1.3               0.2   \n",
       "3                4.6               3.1                1.5               0.2   \n",
       "4                5.0               3.6                1.4               0.2   \n",
       "5                5.4               3.9                1.7               0.4   \n",
       "6                4.6               3.4                1.4               0.3   \n",
       "\n",
       "   Class  \n",
       "0      0  \n",
       "1      0  \n",
       "2      0  \n",
       "3      0  \n",
       "4      0  \n",
       "5      0  \n",
       "6      0  "
      ]
     },
     "execution_count": 6,
     "metadata": {},
     "output_type": "execute_result"
    }
   ],
   "source": [
    "data = ds.load_iris()\n",
    "df = pd.DataFrame(data=data['data'], columns=data['feature_names'])\n",
    "df['Class'] = data['target']\n",
    "df.head(7)"
   ]
  }
 ],
 "metadata": {
  "kernelspec": {
   "display_name": "Python 3.10.4 64-bit",
   "language": "python",
   "name": "python3"
  },
  "language_info": {
   "codemirror_mode": {
    "name": "ipython",
    "version": 3
   },
   "file_extension": ".py",
   "mimetype": "text/x-python",
   "name": "python",
   "nbconvert_exporter": "python",
   "pygments_lexer": "ipython3",
   "version": "3.10.4"
  },
  "vscode": {
   "interpreter": {
    "hash": "916dbcbb3f70747c44a77c7bcd40155683ae19c65e1c03b4aa3499c5328201f1"
   }
  }
 },
 "nbformat": 4,
 "nbformat_minor": 4
}
